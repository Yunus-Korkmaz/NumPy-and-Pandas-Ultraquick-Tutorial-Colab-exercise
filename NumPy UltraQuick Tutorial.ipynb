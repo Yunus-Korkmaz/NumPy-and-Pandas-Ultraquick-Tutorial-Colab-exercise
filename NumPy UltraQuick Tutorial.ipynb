{
 "cells": [
  {
   "cell_type": "markdown",
   "metadata": {},
   "source": [
    "Import NumPy module"
   ]
  },
  {
   "cell_type": "code",
   "execution_count": 1,
   "metadata": {},
   "outputs": [],
   "source": [
    "import numpy as np "
   ]
  },
  {
   "cell_type": "markdown",
   "metadata": {},
   "source": [
    "Populate arrays with specific numbers"
   ]
  },
  {
   "cell_type": "code",
   "execution_count": 2,
   "metadata": {},
   "outputs": [
    {
     "name": "stdout",
     "output_type": "stream",
     "text": [
      "[1.2 2.4 3.5 4.7 6.1 7.2 8.3 9.5]\n"
     ]
    }
   ],
   "source": [
    "one_dimensional_array = np.array([1.2, 2.4, 3.5, 4.7, 6.1, 7.2, 8.3, 9.5])\n",
    "print(one_dimensional_array)"
   ]
  },
  {
   "cell_type": "code",
   "execution_count": 3,
   "metadata": {},
   "outputs": [
    {
     "name": "stdout",
     "output_type": "stream",
     "text": [
      "[[ 6  5]\n",
      " [11  7]\n",
      " [ 4  8]]\n"
     ]
    }
   ],
   "source": [
    "two_dimensional_array = np.array([[6, 5], [11, 7], [4, 8]])\n",
    "print(two_dimensional_array)"
   ]
  },
  {
   "cell_type": "code",
   "execution_count": 4,
   "metadata": {},
   "outputs": [
    {
     "name": "stdout",
     "output_type": "stream",
     "text": [
      "[[0. 0. 0. 0. 0.]\n",
      " [0. 0. 0. 0. 0.]\n",
      " [0. 0. 0. 0. 0.]\n",
      " [0. 0. 0. 0. 0.]\n",
      " [0. 0. 0. 0. 0.]]\n",
      "\n",
      " Machine parameters for float64\n",
      "---------------------------------------------------------------\n",
      "precision =  15   resolution = 1.0000000000000001e-15\n",
      "machep =    -52   eps =        2.2204460492503131e-16\n",
      "negep =     -53   epsneg =     1.1102230246251565e-16\n",
      "minexp =  -1022   tiny =       2.2250738585072014e-308\n",
      "maxexp =   1024   max =        1.7976931348623157e+308\n",
      "nexp =       11   min =        -max\n",
      "smallest_normal = 2.2250738585072014e-308   smallest_subnormal = 4.9406564584124654e-324\n",
      "---------------------------------------------------------------\n",
      "\n"
     ]
    }
   ],
   "source": [
    "# zeros komutu ile bie zero matrix oluşturabiliriz\n",
    "# sistem 64 bit olduğu için 64 bit üzerinin kullanamıyoruz ?\n",
    "array_zeros=np.zeros((5,5),dtype=np.float64) \n",
    "print(array_zeros)\n",
    "\n",
    "# 64 bit float matriximizin her bir elemanının alabileceği maximum ve minimum değerleri ve diğer birçok bilgiyi bu şekilde görebiliriz \n",
    "print(\"\\n\",np.finfo(array_zeros[1,1].dtype))\n"
   ]
  },
  {
   "cell_type": "code",
   "execution_count": 5,
   "metadata": {},
   "outputs": [
    {
     "name": "stdout",
     "output_type": "stream",
     "text": [
      "[[[1. 1. 1. 1. 1.]\n",
      "  [1. 1. 1. 1. 1.]\n",
      "  [1. 1. 1. 1. 1.]\n",
      "  [1. 1. 1. 1. 1.]\n",
      "  [1. 1. 1. 1. 1.]]\n",
      "\n",
      " [[1. 1. 1. 1. 1.]\n",
      "  [1. 1. 1. 1. 1.]\n",
      "  [1. 1. 1. 1. 1.]\n",
      "  [1. 1. 1. 1. 1.]\n",
      "  [1. 1. 1. 1. 1.]]\n",
      "\n",
      " [[1. 1. 1. 1. 1.]\n",
      "  [1. 1. 1. 1. 1.]\n",
      "  [1. 1. 1. 1. 1.]\n",
      "  [1. 1. 1. 1. 1.]\n",
      "  [1. 1. 1. 1. 1.]]\n",
      "\n",
      " [[1. 1. 1. 1. 1.]\n",
      "  [1. 1. 1. 1. 1.]\n",
      "  [1. 1. 1. 1. 1.]\n",
      "  [1. 1. 1. 1. 1.]\n",
      "  [1. 1. 1. 1. 1.]]\n",
      "\n",
      " [[1. 1. 1. 1. 1.]\n",
      "  [1. 1. 1. 1. 1.]\n",
      "  [1. 1. 1. 1. 1.]\n",
      "  [1. 1. 1. 1. 1.]\n",
      "  [1. 1. 1. 1. 1.]]]\n",
      "<class 'numpy.ndarray'>\n"
     ]
    }
   ],
   "source": [
    "# ones komutu ile birler matrixi oluşturabiliriz\n",
    "array_ones=np.ones((5,5,5))\n",
    "print(array_ones)\n",
    "print(type(array_ones[0,0]))\n",
    "\n"
   ]
  },
  {
   "cell_type": "code",
   "execution_count": 6,
   "metadata": {},
   "outputs": [
    {
     "name": "stdout",
     "output_type": "stream",
     "text": [
      "[[1. 0. 0. 0. 0.]\n",
      " [0. 1. 0. 0. 0.]\n",
      " [0. 0. 1. 0. 0.]\n",
      " [0. 0. 0. 1. 0.]\n",
      " [0. 0. 0. 0. 1.]]\n"
     ]
    }
   ],
   "source": [
    "array_idetity=np.identity(5)\n",
    "print(array_idetity)"
   ]
  },
  {
   "cell_type": "code",
   "execution_count": 7,
   "metadata": {},
   "outputs": [
    {
     "name": "stdout",
     "output_type": "stream",
     "text": [
      "[[ 6  5]\n",
      " [11  7]\n",
      " [ 4  8]]\n",
      "[[ 6  5 11  7  4  8]]\n"
     ]
    }
   ],
   "source": [
    "two_dimensional_array = np.array([[6, 5], [11, 7], [4, 8]])\n",
    "print(two_dimensional_array)\n",
    "# reshape ile boyutları değiştirebiliriz \n",
    "print(two_dimensional_array.reshape(1,6))"
   ]
  },
  {
   "cell_type": "markdown",
   "metadata": {},
   "source": [
    "Populate arrays with sequences of numbers"
   ]
  },
  {
   "cell_type": "code",
   "execution_count": 8,
   "metadata": {},
   "outputs": [
    {
     "name": "stdout",
     "output_type": "stream",
     "text": [
      "[ 5  6  7  8  9 10 11]\n"
     ]
    }
   ],
   "source": [
    "sequence_of_integers = np.arange(5, 12)\n",
    "print(sequence_of_integers)"
   ]
  },
  {
   "cell_type": "code",
   "execution_count": 9,
   "metadata": {},
   "outputs": [
    {
     "name": "stdout",
     "output_type": "stream",
     "text": [
      "[ 5.  6.  7.  8.  9. 10. 11.]\n"
     ]
    }
   ],
   "source": [
    "sequence=np.linspace(5,11,7)\n",
    "print(sequence)"
   ]
  },
  {
   "cell_type": "markdown",
   "metadata": {},
   "source": [
    "Populate arrays with random numbers"
   ]
  },
  {
   "cell_type": "code",
   "execution_count": 10,
   "metadata": {},
   "outputs": [
    {
     "name": "stdout",
     "output_type": "stream",
     "text": [
      "[ 73  74  94 100  94  97]\n"
     ]
    }
   ],
   "source": [
    "random_integers_between_50_and_100 = np.random.randint(low=50, high=101, size=(6))\n",
    "print(random_integers_between_50_and_100)"
   ]
  },
  {
   "cell_type": "code",
   "execution_count": 11,
   "metadata": {},
   "outputs": [
    {
     "name": "stdout",
     "output_type": "stream",
     "text": [
      "First random set                               [ 73  74  94 100  94  97]\n",
      "Second Random set                              [42 30 16 45 20 28]\n",
      "Random selection set                           [0 1 1 1 1 1]\n",
      "Our Random set created with 2 different set    [73 30 94 45 94 28]\n"
     ]
    }
   ],
   "source": [
    "print(\"%-45s \" % (\"First random set \"), random_integers_between_50_and_100)\n",
    "\n",
    "random_int_num2=np.random.randint(10,49,6)\n",
    "print(\"%-45s \" % \"Second Random set\",random_int_num2)\n",
    "\n",
    "rand_choose=np.random.randint(0,2,6)\n",
    "print(\"%-45s \" % \"Random selection set \",rand_choose)\n",
    "\n",
    "random_set=np.choose([0,1,0,1,0,1],[random_integers_between_50_and_100,random_int_num2])\n",
    "print(\"%-45s \" % \"Our Random set created with 2 different set\",random_set)"
   ]
  },
  {
   "cell_type": "code",
   "execution_count": 12,
   "metadata": {},
   "outputs": [
    {
     "name": "stdout",
     "output_type": "stream",
     "text": [
      "[0.88298478 0.93687747 0.01767454 0.611296   0.1574264  0.88204173]\n"
     ]
    }
   ],
   "source": [
    "#To create random floating-point values between 0.0 and 1.0, call np.random.random. For example:\n",
    "random_floats_between_0_and_1 = np.random.random([6])\n",
    "print(random_floats_between_0_and_1) "
   ]
  },
  {
   "cell_type": "markdown",
   "metadata": {},
   "source": [
    "Mathematical Operations on NumPy Operands"
   ]
  },
  {
   "cell_type": "code",
   "execution_count": 13,
   "metadata": {},
   "outputs": [
    {
     "name": "stdout",
     "output_type": "stream",
     "text": [
      "[2.88298478 2.93687747 2.01767454 2.611296   2.1574264  2.88204173]\n"
     ]
    }
   ],
   "source": [
    "random_floats_between_2_and_3 = random_floats_between_0_and_1 + 2.0\n",
    "print(random_floats_between_2_and_3)"
   ]
  },
  {
   "cell_type": "code",
   "execution_count": 14,
   "metadata": {},
   "outputs": [
    {
     "name": "stdout",
     "output_type": "stream",
     "text": [
      "[219 222 282 300 282 291]\n"
     ]
    }
   ],
   "source": [
    "random_integers_between_150_and_300 = random_integers_between_50_and_100 * 3\n",
    "print(random_integers_between_150_and_300)"
   ]
  },
  {
   "cell_type": "code",
   "execution_count": 15,
   "metadata": {},
   "outputs": [
    {
     "name": "stdout",
     "output_type": "stream",
     "text": [
      "MAtrix1 2x3\n",
      " [[0.95860105 0.5800079  0.48905829]\n",
      " [0.90613068 0.49564195 0.21448873]] \n",
      "Matrix2 3x2\n",
      " [[0.24694942 0.94717826]\n",
      " [0.58873023 0.92464416]\n",
      " [0.9065783  0.65950879]]\n",
      "\n",
      "np.matmul(matrix1,matrix2)\n",
      " [[1.02156379 1.76680525]\n",
      " [0.71001868 1.45801693]]\n",
      "\n",
      "np.dot(matrix1,matrix2)\n",
      " [[1.02156379 1.76680525]\n",
      " [0.71001868 1.45801693]]\n",
      "\n",
      "matrix1 @ matrix2\n",
      " [[1.02156379 1.76680525]\n",
      " [0.71001868 1.45801693]]\n"
     ]
    }
   ],
   "source": [
    "matrix1=np.random.random((2,3))\n",
    "matrix2=np.random.random_sample((3,2))\n",
    "\n",
    "print(\"MAtrix1 2x3\\n\",matrix1,\"\\nMatrix2 3x2\\n\",matrix2)\n",
    "\n",
    "# matrix çarpımını gerçekleştirmek için dot,matmul,@ gibi fonkisyonlar kullanılabilir \n",
    "# dot ve matmul benzer performansa sahiptir ,fakat matrix hesaplama teknikleri biraz farklıdır \n",
    "# '@' sembolü '__matmul__' ve '@='sembolü '__imatmul__' methodlarını çağırır ,bu kullanım python 3.5 ve üzeri sürümlerin için geçerlidir \n",
    "# '@' sembolü '*' işlemi ile aynı önceliğe sahiptir \n",
    "\n",
    "print(\"\\nnp.matmul(matrix1,matrix2)\\n\", np.matmul(matrix1,matrix2))\n",
    "print(\"\\nnp.dot(matrix1,matrix2)\\n\", np.dot(matrix1,matrix2))\n",
    "print(\"\\nmatrix1 @ matrix2\\n\", matrix1 @ matrix2)"
   ]
  },
  {
   "cell_type": "markdown",
   "metadata": {},
   "source": [
    "Task 1: Create a Linear Dataset"
   ]
  },
  {
   "cell_type": "code",
   "execution_count": 16,
   "metadata": {},
   "outputs": [
    {
     "name": "stdout",
     "output_type": "stream",
     "text": [
      "[ 6  7  8  9 10 11 12 13 14 15 16 17 18 19]\n",
      "[22 25 28 31 34 37 40 43 46 49 52 55 58 61]\n"
     ]
    }
   ],
   "source": [
    "feature=np.arange(6,20)\n",
    "print(feature)\n",
    "label = (feature * 3) + 4\n",
    "print(label)"
   ]
  },
  {
   "cell_type": "code",
   "execution_count": 17,
   "metadata": {},
   "outputs": [
    {
     "data": {
      "text/html": [
       "<div>\n",
       "<style scoped>\n",
       "    .dataframe tbody tr th:only-of-type {\n",
       "        vertical-align: middle;\n",
       "    }\n",
       "\n",
       "    .dataframe tbody tr th {\n",
       "        vertical-align: top;\n",
       "    }\n",
       "\n",
       "    .dataframe thead th {\n",
       "        text-align: right;\n",
       "    }\n",
       "</style>\n",
       "<table border=\"1\" class=\"dataframe\">\n",
       "  <thead>\n",
       "    <tr style=\"text-align: right;\">\n",
       "      <th></th>\n",
       "      <th>Feature1</th>\n",
       "      <th>Feature2</th>\n",
       "      <th>Feature3</th>\n",
       "      <th>Feature4</th>\n",
       "    </tr>\n",
       "    <tr>\n",
       "      <th>index</th>\n",
       "      <th></th>\n",
       "      <th></th>\n",
       "      <th></th>\n",
       "      <th></th>\n",
       "    </tr>\n",
       "  </thead>\n",
       "  <tbody>\n",
       "    <tr>\n",
       "      <th>0</th>\n",
       "      <td>0.416551</td>\n",
       "      <td>0.166832</td>\n",
       "      <td>0.672965</td>\n",
       "      <td>0.103265</td>\n",
       "    </tr>\n",
       "    <tr>\n",
       "      <th>1</th>\n",
       "      <td>0.518901</td>\n",
       "      <td>0.143647</td>\n",
       "      <td>0.284743</td>\n",
       "      <td>0.261775</td>\n",
       "    </tr>\n",
       "    <tr>\n",
       "      <th>2</th>\n",
       "      <td>0.471836</td>\n",
       "      <td>0.508252</td>\n",
       "      <td>0.801157</td>\n",
       "      <td>0.299332</td>\n",
       "    </tr>\n",
       "    <tr>\n",
       "      <th>3</th>\n",
       "      <td>0.020388</td>\n",
       "      <td>0.607964</td>\n",
       "      <td>0.003434</td>\n",
       "      <td>3.609307</td>\n",
       "    </tr>\n",
       "    <tr>\n",
       "      <th>4</th>\n",
       "      <td>0.577715</td>\n",
       "      <td>0.613148</td>\n",
       "      <td>0.905802</td>\n",
       "      <td>0.391062</td>\n",
       "    </tr>\n",
       "    <tr>\n",
       "      <th>5</th>\n",
       "      <td>0.953165</td>\n",
       "      <td>0.031906</td>\n",
       "      <td>0.631840</td>\n",
       "      <td>0.048132</td>\n",
       "    </tr>\n",
       "    <tr>\n",
       "      <th>6</th>\n",
       "      <td>0.879700</td>\n",
       "      <td>0.865542</td>\n",
       "      <td>0.429890</td>\n",
       "      <td>1.771194</td>\n",
       "    </tr>\n",
       "    <tr>\n",
       "      <th>7</th>\n",
       "      <td>0.775370</td>\n",
       "      <td>0.881341</td>\n",
       "      <td>0.310756</td>\n",
       "      <td>2.199041</td>\n",
       "    </tr>\n",
       "    <tr>\n",
       "      <th>8</th>\n",
       "      <td>0.398466</td>\n",
       "      <td>0.550475</td>\n",
       "      <td>0.401108</td>\n",
       "      <td>0.546848</td>\n",
       "    </tr>\n",
       "    <tr>\n",
       "      <th>9</th>\n",
       "      <td>0.408384</td>\n",
       "      <td>0.356302</td>\n",
       "      <td>0.837268</td>\n",
       "      <td>0.173789</td>\n",
       "    </tr>\n",
       "  </tbody>\n",
       "</table>\n",
       "</div>"
      ],
      "text/plain": [
       "       Feature1  Feature2  Feature3  Feature4\n",
       "index                                        \n",
       "0      0.416551  0.166832  0.672965  0.103265\n",
       "1      0.518901  0.143647  0.284743  0.261775\n",
       "2      0.471836  0.508252  0.801157  0.299332\n",
       "3      0.020388  0.607964  0.003434  3.609307\n",
       "4      0.577715  0.613148  0.905802  0.391062\n",
       "5      0.953165  0.031906  0.631840  0.048132\n",
       "6      0.879700  0.865542  0.429890  1.771194\n",
       "7      0.775370  0.881341  0.310756  2.199041\n",
       "8      0.398466  0.550475  0.401108  0.546848\n",
       "9      0.408384  0.356302  0.837268  0.173789"
      ]
     },
     "execution_count": 17,
     "metadata": {},
     "output_type": "execute_result"
    }
   ],
   "source": [
    "# bu şekilde oluşturudğumuz özellik ve labelleri birleştirerek bir tablo elde edebiliriz \n",
    "feature1=np.random.random_sample(10)\n",
    "feature2=np.random.random_sample(10)\n",
    "feature3=np.random.random_sample(10)\n",
    "feature4=feature1*feature2/feature3\n",
    "index=np.arange(0,10)\n",
    "\n",
    "colomn_labels=['Feature1','Feature2','Feature3','Feature4','index']\n",
    "colomn_datas=[feature1,feature2,feature3,feature4,index]\n",
    "colomns=list(zip(colomn_labels,colomn_datas))\n",
    "colomns=dict(colomns)\n",
    "\n",
    "import pandas as pd \n",
    "\n",
    "data=pd.DataFrame(colomns)\n",
    "\n",
    "data.set_index('index',inplace=True)\n",
    "data\n",
    "\n"
   ]
  },
  {
   "cell_type": "markdown",
   "metadata": {},
   "source": [
    "Task 2: Add Some Noise to the Dataset"
   ]
  },
  {
   "cell_type": "code",
   "execution_count": 18,
   "metadata": {},
   "outputs": [
    {
     "name": "stdout",
     "output_type": "stream",
     "text": [
      "[1.9596248803027971, -1.4571410348786364, 1.7063801935571075, 1.7880445982768358, -1.3911149506914198, -1.6641342681178464, -1.293386400575948, 1.0639999819067611, 1.5801550065749868, -1.9610658761303128, 1.7656885232466264, -1.66320341110933, 1.7749780057261781, 1.0437791425076557]\n",
      "<class 'list'> \n",
      "\n",
      "[23.95962488 23.54285897 29.70638019 32.7880446  32.60888505 35.33586573\n",
      " 38.7066136  44.06399998 47.58015501 47.03893412 53.76568852 53.33679659\n",
      " 59.77497801 62.04377914]\n",
      "<class 'numpy.ndarray'>\n"
     ]
    }
   ],
   "source": [
    "import random \n",
    "\n",
    "#noise = (np.random.random([14]) * 4) - 2\n",
    "\n",
    "noise=[]\n",
    "for i in np.random.random_sample(len(label)) :\n",
    "    noise.append(i + random.choice([1,-2]))\n",
    "\n",
    "print(noise)\n",
    "print(type(noise),\"\\n\")\n",
    "label = label + noise \n",
    "print(label)\n",
    "print(type(label))"
   ]
  }
 ],
 "metadata": {
  "interpreter": {
   "hash": "960140e2658d3b20600750e106525d8e99e17fa5daa4e0a0c6a2e5847ebf7306"
  },
  "kernelspec": {
   "display_name": "Python 3.10.2 64-bit",
   "language": "python",
   "name": "python3"
  },
  "language_info": {
   "codemirror_mode": {
    "name": "ipython",
    "version": 3
   },
   "file_extension": ".py",
   "mimetype": "text/x-python",
   "name": "python",
   "nbconvert_exporter": "python",
   "pygments_lexer": "ipython3",
   "version": "3.10.2"
  },
  "orig_nbformat": 4
 },
 "nbformat": 4,
 "nbformat_minor": 2
}
